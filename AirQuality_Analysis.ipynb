{
 "cells": [
  {
   "cell_type": "code",
   "execution_count": null,
   "id": "91ab6fdf",
   "metadata": {},
   "outputs": [],
   "source": [
    "import pandas as pd\n",
    "import matplotlib.pyplot as plt\n",
    "import seaborn as sns\n",
    "\n",
    "# Enable inline plotting\n",
    "%matplotlib inline\n"
   ]
  },
  {
   "cell_type": "code",
   "execution_count": null,
   "id": "bc5c8b15",
   "metadata": {},
   "outputs": [],
   "source": [
    "# Load the dataset\n",
    "df = pd.read_csv(\"AirQualityUCI.csv\", sep=';', decimal=',', encoding='latin1')\n",
    "df.head()\n"
   ]
  },
  {
   "cell_type": "code",
   "execution_count": null,
   "id": "a6f1d0ff",
   "metadata": {},
   "outputs": [],
   "source": [
    "# Drop completely empty columns\n",
    "df.drop(columns=['Unnamed: 15', 'Unnamed: 16'], inplace=True)\n",
    "\n",
    "# Combine Date and Time into a datetime column\n",
    "df['Datetime'] = pd.to_datetime(df['Date'] + ' ' + df['Time'], format='%d/%m/%Y %H.%M.%S', errors='coerce')\n",
    "df.drop(columns=['Date', 'Time'], inplace=True)\n",
    "\n",
    "# Set datetime as index\n",
    "df.set_index('Datetime', inplace=True)\n",
    "df.sort_index(inplace=True)\n",
    "df.head()\n"
   ]
  },
  {
   "cell_type": "code",
   "execution_count": null,
   "id": "2a1db481",
   "metadata": {},
   "outputs": [],
   "source": [
    "# Replace -200 values (representing missing values) with NaN\n",
    "df.replace(-200, pd.NA, inplace=True)\n",
    "\n",
    "# Drop rows with too many NaNs\n",
    "df.dropna(thresh=5, inplace=True)\n",
    "\n",
    "# Fill remaining NaNs with forward fill\n",
    "df.fillna(method='ffill', inplace=True)\n",
    "\n",
    "df.isna().sum()\n"
   ]
  },
  {
   "cell_type": "code",
   "execution_count": null,
   "id": "c8dc8768",
   "metadata": {},
   "outputs": [],
   "source": [
    "# Summary statistics\n",
    "df.describe()\n"
   ]
  },
  {
   "cell_type": "code",
   "execution_count": null,
   "id": "45131346",
   "metadata": {},
   "outputs": [],
   "source": [
    "# Correlation heatmap\n",
    "plt.figure(figsize=(12, 8))\n",
    "sns.heatmap(df.corr(numeric_only=True), annot=True, fmt=\".2f\", cmap='coolwarm')\n",
    "plt.title(\"Correlation Heatmap\")\n",
    "plt.show()\n"
   ]
  },
  {
   "cell_type": "code",
   "execution_count": null,
   "id": "4d7fa338",
   "metadata": {},
   "outputs": [],
   "source": [
    "# Plot time series for selected pollutants\n",
    "pollutants = ['CO(GT)', 'NOx(GT)', 'NO2(GT)', 'C6H6(GT)', 'T', 'RH']\n",
    "df[pollutants].plot(subplots=True, figsize=(15, 12), title='Air Quality Time Series Trends')\n",
    "plt.tight_layout()\n",
    "plt.show()\n"
   ]
  }
 ],
 "metadata": {},
 "nbformat": 4,
 "nbformat_minor": 5
}